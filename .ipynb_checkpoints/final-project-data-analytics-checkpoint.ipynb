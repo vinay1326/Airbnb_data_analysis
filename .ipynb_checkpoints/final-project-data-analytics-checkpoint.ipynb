{
 "cells": [
  {
   "cell_type": "code",
   "execution_count": 1,
   "id": "7a1797d2",
   "metadata": {
    "_cell_guid": "b1076dfc-b9ad-4769-8c92-a6c4dae69d19",
    "_uuid": "8f2839f25d086af736a60e9eeb907d3b93b6e0e5",
    "execution": {
     "iopub.execute_input": "2023-12-23T16:01:43.883117Z",
     "iopub.status.busy": "2023-12-23T16:01:43.882410Z",
     "iopub.status.idle": "2023-12-23T16:01:44.688491Z",
     "shell.execute_reply": "2023-12-23T16:01:44.687786Z"
    },
    "papermill": {
     "duration": 0.820088,
     "end_time": "2023-12-23T16:01:44.690774",
     "exception": false,
     "start_time": "2023-12-23T16:01:43.870686",
     "status": "completed"
    },
    "tags": []
   },
   "outputs": [
    {
     "name": "stdout",
     "output_type": "stream",
     "text": [
      "/kaggle/input/airbnbopendata/Airbnb_Open_Data.csv\n"
     ]
    }
   ],
   "source": [
    "# This Python 3 environment comes with many helpful analytics libraries installed\n",
    "# It is defined by the kaggle/python Docker image: https://github.com/kaggle/docker-python\n",
    "# For example, here's several helpful packages to load\n",
    "\n",
    "import numpy as np # linear algebra\n",
    "import pandas as pd # data processing, CSV file I/O (e.g. pd.read_csv)\n",
    "\n",
    "# Input data files are available in the read-only \"../input/\" directory\n",
    "# For example, running this (by clicking run or pressing Shift+Enter) will list all files under the input directory\n",
    "\n",
    "import os\n",
    "for dirname, _, filenames in os.walk('/kaggle/input'):\n",
    "    for filename in filenames:\n",
    "        print(os.path.join(dirname, filename))\n",
    "\n",
    "# You can write up to 20GB to the current directory (/kaggle/working/) that gets preserved as output when you create a version using \"Save & Run All\" \n",
    "# You can also write temporary files to /kaggle/temp/, but they won't be saved outside of the current session"
   ]
  },
  {
   "cell_type": "code",
   "execution_count": 2,
   "id": "baa8f5a9",
   "metadata": {
    "execution": {
     "iopub.execute_input": "2023-12-23T16:01:44.713262Z",
     "iopub.status.busy": "2023-12-23T16:01:44.712495Z",
     "iopub.status.idle": "2023-12-23T16:01:46.809169Z",
     "shell.execute_reply": "2023-12-23T16:01:46.808221Z"
    },
    "papermill": {
     "duration": 2.110043,
     "end_time": "2023-12-23T16:01:46.811582",
     "exception": false,
     "start_time": "2023-12-23T16:01:44.701539",
     "status": "completed"
    },
    "tags": []
   },
   "outputs": [],
   "source": [
    "import pandas as pd\n",
    "import numpy as np\n",
    "\n",
    "import matplotlib\n",
    "import matplotlib.pyplot as plt\n",
    "import seaborn as sns\n",
    "import plotly.express as px\n",
    "import plotly.graph_objects as go\n",
    "from plotly.subplots import make_subplots\n"
   ]
  },
  {
   "cell_type": "code",
   "execution_count": 3,
   "id": "11dcd46b",
   "metadata": {
    "execution": {
     "iopub.execute_input": "2023-12-23T16:01:46.832439Z",
     "iopub.status.busy": "2023-12-23T16:01:46.831854Z",
     "iopub.status.idle": "2023-12-23T16:01:47.897703Z",
     "shell.execute_reply": "2023-12-23T16:01:47.896103Z"
    },
    "papermill": {
     "duration": 1.079245,
     "end_time": "2023-12-23T16:01:47.900414",
     "exception": false,
     "start_time": "2023-12-23T16:01:46.821169",
     "status": "completed"
    },
    "tags": []
   },
   "outputs": [],
   "source": [
    "df = pd.read_csv('/kaggle/input/airbnbopendata/Airbnb_Open_Data.csv', low_memory=False)"
   ]
  },
  {
   "cell_type": "code",
   "execution_count": 4,
   "id": "d76c9dd3",
   "metadata": {
    "execution": {
     "iopub.execute_input": "2023-12-23T16:01:47.921710Z",
     "iopub.status.busy": "2023-12-23T16:01:47.920447Z",
     "iopub.status.idle": "2023-12-23T16:01:47.953250Z",
     "shell.execute_reply": "2023-12-23T16:01:47.951906Z"
    },
    "papermill": {
     "duration": 0.04647,
     "end_time": "2023-12-23T16:01:47.956355",
     "exception": false,
     "start_time": "2023-12-23T16:01:47.909885",
     "status": "completed"
    },
    "tags": []
   },
   "outputs": [
    {
     "name": "stdout",
     "output_type": "stream",
     "text": [
      "        id                                              NAME      host id  \\\n",
      "0  1001254                Clean & quiet apt home by the park  80014485718   \n",
      "1  1002102                             Skylit Midtown Castle  52335172823   \n",
      "2  1002403               THE VILLAGE OF HARLEM....NEW YORK !  78829239556   \n",
      "3  1002755                                               NaN  85098326012   \n",
      "4  1003689  Entire Apt: Spacious Studio/Loft by central park  92037596077   \n",
      "\n",
      "  host_identity_verified host name neighbourhood group neighbourhood  \\\n",
      "0            unconfirmed  Madaline            Brooklyn    Kensington   \n",
      "1               verified     Jenna           Manhattan       Midtown   \n",
      "2                    NaN     Elise           Manhattan        Harlem   \n",
      "3            unconfirmed     Garry            Brooklyn  Clinton Hill   \n",
      "4               verified    Lyndon           Manhattan   East Harlem   \n",
      "\n",
      "        lat      long        country  ... service fee minimum nights  \\\n",
      "0  40.64749 -73.97237  United States  ...       $193            10.0   \n",
      "1  40.75362 -73.98377  United States  ...        $28            30.0   \n",
      "2  40.80902 -73.94190  United States  ...       $124             3.0   \n",
      "3  40.68514 -73.95976  United States  ...        $74            30.0   \n",
      "4  40.79851 -73.94399  United States  ...        $41            10.0   \n",
      "\n",
      "  number of reviews last review  reviews per month review rate number  \\\n",
      "0               9.0  10/19/2021               0.21                4.0   \n",
      "1              45.0   5/21/2022               0.38                4.0   \n",
      "2               0.0         NaN                NaN                5.0   \n",
      "3             270.0    7/5/2019               4.64                4.0   \n",
      "4               9.0  11/19/2018               0.10                3.0   \n",
      "\n",
      "  calculated host listings count  availability 365  \\\n",
      "0                            6.0             286.0   \n",
      "1                            2.0             228.0   \n",
      "2                            1.0             352.0   \n",
      "3                            1.0             322.0   \n",
      "4                            1.0             289.0   \n",
      "\n",
      "                                         house_rules license  \n",
      "0  Clean up and treat the home the way you'd like...     NaN  \n",
      "1  Pet friendly but please confirm with me if the...     NaN  \n",
      "2  I encourage you to use my kitchen, cooking and...     NaN  \n",
      "3                                                NaN     NaN  \n",
      "4  Please no smoking in the house, porch or on th...     NaN  \n",
      "\n",
      "[5 rows x 26 columns]\n"
     ]
    }
   ],
   "source": [
    "print(df.head())"
   ]
  },
  {
   "cell_type": "code",
   "execution_count": 5,
   "id": "61288824",
   "metadata": {
    "execution": {
     "iopub.execute_input": "2023-12-23T16:01:47.982198Z",
     "iopub.status.busy": "2023-12-23T16:01:47.981743Z",
     "iopub.status.idle": "2023-12-23T16:01:47.991145Z",
     "shell.execute_reply": "2023-12-23T16:01:47.989642Z"
    },
    "papermill": {
     "duration": 0.024524,
     "end_time": "2023-12-23T16:01:47.993517",
     "exception": false,
     "start_time": "2023-12-23T16:01:47.968993",
     "status": "completed"
    },
    "tags": []
   },
   "outputs": [
    {
     "data": {
      "text/plain": [
       "id                                  int64\n",
       "NAME                               object\n",
       "host id                             int64\n",
       "host_identity_verified             object\n",
       "host name                          object\n",
       "neighbourhood group                object\n",
       "neighbourhood                      object\n",
       "lat                               float64\n",
       "long                              float64\n",
       "country                            object\n",
       "country code                       object\n",
       "instant_bookable                   object\n",
       "cancellation_policy                object\n",
       "room type                          object\n",
       "Construction year                 float64\n",
       "price                              object\n",
       "service fee                        object\n",
       "minimum nights                    float64\n",
       "number of reviews                 float64\n",
       "last review                        object\n",
       "reviews per month                 float64\n",
       "review rate number                float64\n",
       "calculated host listings count    float64\n",
       "availability 365                  float64\n",
       "house_rules                        object\n",
       "license                            object\n",
       "dtype: object"
      ]
     },
     "execution_count": 5,
     "metadata": {},
     "output_type": "execute_result"
    }
   ],
   "source": [
    "df.dtypes"
   ]
  },
  {
   "cell_type": "code",
   "execution_count": 6,
   "id": "a3712b15",
   "metadata": {
    "execution": {
     "iopub.execute_input": "2023-12-23T16:01:48.018685Z",
     "iopub.status.busy": "2023-12-23T16:01:48.018321Z",
     "iopub.status.idle": "2023-12-23T16:01:48.040486Z",
     "shell.execute_reply": "2023-12-23T16:01:48.039291Z"
    },
    "papermill": {
     "duration": 0.037851,
     "end_time": "2023-12-23T16:01:48.043519",
     "exception": false,
     "start_time": "2023-12-23T16:01:48.005668",
     "status": "completed"
    },
    "tags": []
   },
   "outputs": [],
   "source": [
    "#Data cleaning - dropping all unwanted columns\n",
    "unwanted_columns = ['host id', 'id', 'country', 'country code', 'lat', 'long', 'house_rules', 'license']\n",
    "cleaned_df = df.drop(columns=unwanted_columns)"
   ]
  },
  {
   "cell_type": "code",
   "execution_count": 7,
   "id": "6a147311",
   "metadata": {
    "execution": {
     "iopub.execute_input": "2023-12-23T16:01:48.064845Z",
     "iopub.status.busy": "2023-12-23T16:01:48.064431Z",
     "iopub.status.idle": "2023-12-23T16:01:48.078749Z",
     "shell.execute_reply": "2023-12-23T16:01:48.076609Z"
    },
    "papermill": {
     "duration": 0.027349,
     "end_time": "2023-12-23T16:01:48.080837",
     "exception": false,
     "start_time": "2023-12-23T16:01:48.053488",
     "status": "completed"
    },
    "tags": []
   },
   "outputs": [
    {
     "name": "stdout",
     "output_type": "stream",
     "text": [
      "                                               NAME host_identity_verified  \\\n",
      "0                Clean & quiet apt home by the park            unconfirmed   \n",
      "1                             Skylit Midtown Castle               verified   \n",
      "2               THE VILLAGE OF HARLEM....NEW YORK !                    NaN   \n",
      "3                                               NaN            unconfirmed   \n",
      "4  Entire Apt: Spacious Studio/Loft by central park               verified   \n",
      "\n",
      "  host name neighbourhood group neighbourhood instant_bookable  \\\n",
      "0  Madaline            Brooklyn    Kensington            False   \n",
      "1     Jenna           Manhattan       Midtown            False   \n",
      "2     Elise           Manhattan        Harlem             True   \n",
      "3     Garry            Brooklyn  Clinton Hill             True   \n",
      "4    Lyndon           Manhattan   East Harlem            False   \n",
      "\n",
      "  cancellation_policy        room type  Construction year  price service fee  \\\n",
      "0              strict     Private room             2020.0  $966        $193    \n",
      "1            moderate  Entire home/apt             2007.0  $142         $28    \n",
      "2            flexible     Private room             2005.0  $620        $124    \n",
      "3            moderate  Entire home/apt             2005.0  $368         $74    \n",
      "4            moderate  Entire home/apt             2009.0  $204         $41    \n",
      "\n",
      "   minimum nights  number of reviews last review  reviews per month  \\\n",
      "0            10.0                9.0  10/19/2021               0.21   \n",
      "1            30.0               45.0   5/21/2022               0.38   \n",
      "2             3.0                0.0         NaN                NaN   \n",
      "3            30.0              270.0    7/5/2019               4.64   \n",
      "4            10.0                9.0  11/19/2018               0.10   \n",
      "\n",
      "   review rate number  calculated host listings count  availability 365  \n",
      "0                 4.0                             6.0             286.0  \n",
      "1                 4.0                             2.0             228.0  \n",
      "2                 5.0                             1.0             352.0  \n",
      "3                 4.0                             1.0             322.0  \n",
      "4                 3.0                             1.0             289.0  \n"
     ]
    }
   ],
   "source": [
    "print(cleaned_df.head())"
   ]
  },
  {
   "cell_type": "code",
   "execution_count": 8,
   "id": "ed2348ca",
   "metadata": {
    "execution": {
     "iopub.execute_input": "2023-12-23T16:01:48.102512Z",
     "iopub.status.busy": "2023-12-23T16:01:48.102064Z",
     "iopub.status.idle": "2023-12-23T16:01:48.144564Z",
     "shell.execute_reply": "2023-12-23T16:01:48.143017Z"
    },
    "papermill": {
     "duration": 0.056986,
     "end_time": "2023-12-23T16:01:48.147702",
     "exception": false,
     "start_time": "2023-12-23T16:01:48.090716",
     "status": "completed"
    },
    "tags": []
   },
   "outputs": [],
   "source": [
    "missing_values = cleaned_df.isnull().sum()"
   ]
  },
  {
   "cell_type": "code",
   "execution_count": 9,
   "id": "e04a8daa",
   "metadata": {
    "execution": {
     "iopub.execute_input": "2023-12-23T16:01:48.170733Z",
     "iopub.status.busy": "2023-12-23T16:01:48.170319Z",
     "iopub.status.idle": "2023-12-23T16:01:48.174986Z",
     "shell.execute_reply": "2023-12-23T16:01:48.174140Z"
    },
    "papermill": {
     "duration": 0.018858,
     "end_time": "2023-12-23T16:01:48.177241",
     "exception": false,
     "start_time": "2023-12-23T16:01:48.158383",
     "status": "completed"
    },
    "tags": []
   },
   "outputs": [
    {
     "name": "stdout",
     "output_type": "stream",
     "text": [
      "NAME                                250\n",
      "host_identity_verified              289\n",
      "host name                           406\n",
      "neighbourhood group                  29\n",
      "neighbourhood                        16\n",
      "instant_bookable                    105\n",
      "cancellation_policy                  76\n",
      "room type                             0\n",
      "Construction year                   214\n",
      "price                               247\n",
      "service fee                         273\n",
      "minimum nights                      409\n",
      "number of reviews                   183\n",
      "last review                       15893\n",
      "reviews per month                 15879\n",
      "review rate number                  326\n",
      "calculated host listings count      319\n",
      "availability 365                    448\n",
      "dtype: int64\n"
     ]
    }
   ],
   "source": [
    "print(missing_values)"
   ]
  },
  {
   "cell_type": "code",
   "execution_count": 10,
   "id": "1cbf21ae",
   "metadata": {
    "execution": {
     "iopub.execute_input": "2023-12-23T16:01:48.198726Z",
     "iopub.status.busy": "2023-12-23T16:01:48.198363Z",
     "iopub.status.idle": "2023-12-23T16:01:48.204045Z",
     "shell.execute_reply": "2023-12-23T16:01:48.203180Z"
    },
    "papermill": {
     "duration": 0.01949,
     "end_time": "2023-12-23T16:01:48.206555",
     "exception": false,
     "start_time": "2023-12-23T16:01:48.187065",
     "status": "completed"
    },
    "tags": []
   },
   "outputs": [
    {
     "data": {
      "text/plain": [
       "102599"
      ]
     },
     "execution_count": 10,
     "metadata": {},
     "output_type": "execute_result"
    }
   ],
   "source": [
    "#check total number of present records\n",
    "initial_records = len(cleaned_df)\n",
    "initial_records"
   ]
  },
  {
   "cell_type": "code",
   "execution_count": 11,
   "id": "4ec2b139",
   "metadata": {
    "execution": {
     "iopub.execute_input": "2023-12-23T16:01:48.228258Z",
     "iopub.status.busy": "2023-12-23T16:01:48.227860Z",
     "iopub.status.idle": "2023-12-23T16:01:48.351356Z",
     "shell.execute_reply": "2023-12-23T16:01:48.349681Z"
    },
    "papermill": {
     "duration": 0.136866,
     "end_time": "2023-12-23T16:01:48.353648",
     "exception": false,
     "start_time": "2023-12-23T16:01:48.216782",
     "status": "completed"
    },
    "tags": []
   },
   "outputs": [
    {
     "data": {
      "text/plain": [
       "3615"
      ]
     },
     "execution_count": 11,
     "metadata": {},
     "output_type": "execute_result"
    }
   ],
   "source": [
    "#check duplicates in the data provided\n",
    "duplicates = cleaned_df.duplicated().sum()\n",
    "duplicates"
   ]
  },
  {
   "cell_type": "code",
   "execution_count": 12,
   "id": "e861a1f5",
   "metadata": {
    "execution": {
     "iopub.execute_input": "2023-12-23T16:01:48.438893Z",
     "iopub.status.busy": "2023-12-23T16:01:48.438524Z",
     "iopub.status.idle": "2023-12-23T16:01:48.566945Z",
     "shell.execute_reply": "2023-12-23T16:01:48.565875Z"
    },
    "papermill": {
     "duration": 0.202343,
     "end_time": "2023-12-23T16:01:48.569395",
     "exception": false,
     "start_time": "2023-12-23T16:01:48.367052",
     "status": "completed"
    },
    "tags": []
   },
   "outputs": [],
   "source": [
    "#remove duplicates\n",
    "cleaned_df.drop_duplicates(inplace=True)"
   ]
  },
  {
   "cell_type": "code",
   "execution_count": 13,
   "id": "d72d427e",
   "metadata": {
    "execution": {
     "iopub.execute_input": "2023-12-23T16:01:48.592373Z",
     "iopub.status.busy": "2023-12-23T16:01:48.591065Z",
     "iopub.status.idle": "2023-12-23T16:01:48.596663Z",
     "shell.execute_reply": "2023-12-23T16:01:48.595420Z"
    },
    "papermill": {
     "duration": 0.018989,
     "end_time": "2023-12-23T16:01:48.598645",
     "exception": false,
     "start_time": "2023-12-23T16:01:48.579656",
     "status": "completed"
    },
    "tags": []
   },
   "outputs": [
    {
     "name": "stdout",
     "output_type": "stream",
     "text": [
      "Duplicates removed\n"
     ]
    }
   ],
   "source": [
    "print(\"Duplicates removed\")"
   ]
  },
  {
   "cell_type": "code",
   "execution_count": 14,
   "id": "90bf0143",
   "metadata": {
    "execution": {
     "iopub.execute_input": "2023-12-23T16:01:48.622072Z",
     "iopub.status.busy": "2023-12-23T16:01:48.621672Z",
     "iopub.status.idle": "2023-12-23T16:01:48.630300Z",
     "shell.execute_reply": "2023-12-23T16:01:48.629009Z"
    },
    "papermill": {
     "duration": 0.023305,
     "end_time": "2023-12-23T16:01:48.632229",
     "exception": false,
     "start_time": "2023-12-23T16:01:48.608924",
     "status": "completed"
    },
    "tags": []
   },
   "outputs": [
    {
     "data": {
      "text/plain": [
       "98984"
      ]
     },
     "execution_count": 14,
     "metadata": {},
     "output_type": "execute_result"
    }
   ],
   "source": [
    "#To check number of present records after removal\n",
    "final_records = len(cleaned_df)\n",
    "final_records"
   ]
  },
  {
   "cell_type": "code",
   "execution_count": 15,
   "id": "510792ea",
   "metadata": {
    "execution": {
     "iopub.execute_input": "2023-12-23T16:01:48.655126Z",
     "iopub.status.busy": "2023-12-23T16:01:48.654270Z",
     "iopub.status.idle": "2023-12-23T16:01:48.661072Z",
     "shell.execute_reply": "2023-12-23T16:01:48.660095Z"
    },
    "papermill": {
     "duration": 0.020721,
     "end_time": "2023-12-23T16:01:48.663378",
     "exception": false,
     "start_time": "2023-12-23T16:01:48.642657",
     "status": "completed"
    },
    "tags": []
   },
   "outputs": [
    {
     "name": "stdout",
     "output_type": "stream",
     "text": [
      "Column renamed from 'availability 365' to 'days_booked'.\n"
     ]
    }
   ],
   "source": [
    "#Data Transformation - Task 3\n",
    "# Renaming column 'availability 365' to 'days_booked'\n",
    "cleaned_df.rename(columns={'availability 365': 'days_booked'}, inplace=True)\n",
    "print(\"Column renamed from 'availability 365' to 'days_booked'.\")"
   ]
  },
  {
   "cell_type": "code",
   "execution_count": 16,
   "id": "9234e998",
   "metadata": {
    "execution": {
     "iopub.execute_input": "2023-12-23T16:01:48.686224Z",
     "iopub.status.busy": "2023-12-23T16:01:48.685853Z",
     "iopub.status.idle": "2023-12-23T16:01:48.690874Z",
     "shell.execute_reply": "2023-12-23T16:01:48.689938Z"
    },
    "papermill": {
     "duration": 0.018493,
     "end_time": "2023-12-23T16:01:48.692783",
     "exception": false,
     "start_time": "2023-12-23T16:01:48.674290",
     "status": "completed"
    },
    "tags": []
   },
   "outputs": [],
   "source": [
    "# Convert all column names to lowercase and replace spaces with underscores\n",
    "cleaned_df.columns = cleaned_df.columns.str.lower().str.replace(' ', '_')"
   ]
  },
  {
   "cell_type": "code",
   "execution_count": 17,
   "id": "cac0caeb",
   "metadata": {
    "execution": {
     "iopub.execute_input": "2023-12-23T16:01:48.715887Z",
     "iopub.status.busy": "2023-12-23T16:01:48.715186Z",
     "iopub.status.idle": "2023-12-23T16:01:48.722617Z",
     "shell.execute_reply": "2023-12-23T16:01:48.721381Z"
    },
    "papermill": {
     "duration": 0.02179,
     "end_time": "2023-12-23T16:01:48.725134",
     "exception": false,
     "start_time": "2023-12-23T16:01:48.703344",
     "status": "completed"
    },
    "tags": []
   },
   "outputs": [
    {
     "data": {
      "text/plain": [
       "['name',\n",
       " 'host_identity_verified',\n",
       " 'host_name',\n",
       " 'neighbourhood_group',\n",
       " 'neighbourhood',\n",
       " 'instant_bookable',\n",
       " 'cancellation_policy',\n",
       " 'room_type',\n",
       " 'construction_year',\n",
       " 'price',\n",
       " 'service_fee',\n",
       " 'minimum_nights',\n",
       " 'number_of_reviews',\n",
       " 'last_review',\n",
       " 'reviews_per_month',\n",
       " 'review_rate_number',\n",
       " 'calculated_host_listings_count',\n",
       " 'days_booked']"
      ]
     },
     "execution_count": 17,
     "metadata": {},
     "output_type": "execute_result"
    }
   ],
   "source": [
    "#checking column names\n",
    "column_names = cleaned_df.columns.tolist()\n",
    "column_names"
   ]
  },
  {
   "cell_type": "code",
   "execution_count": 18,
   "id": "3e24e3ed",
   "metadata": {
    "execution": {
     "iopub.execute_input": "2023-12-23T16:01:48.750344Z",
     "iopub.status.busy": "2023-12-23T16:01:48.748953Z",
     "iopub.status.idle": "2023-12-23T16:01:49.006889Z",
     "shell.execute_reply": "2023-12-23T16:01:49.005686Z"
    },
    "papermill": {
     "duration": 0.272987,
     "end_time": "2023-12-23T16:01:49.009506",
     "exception": false,
     "start_time": "2023-12-23T16:01:48.736519",
     "status": "completed"
    },
    "tags": []
   },
   "outputs": [],
   "source": [
    "## Remove the dollar sign and comma from 'price' and 'service_fee' columns\n",
    "cleaned_df['price'] = cleaned_df['price'].astype(str).str.replace(r'[$,]', '', regex=True)\n",
    "cleaned_df['service_fee'] = cleaned_df['service_fee'].astype(str).str.replace(r'[$,]', '', regex=True)\n",
    "\n",
    "\n",
    "## Convert 'price' and 'service_fee' columns to numeric data with float data type\n",
    "cleaned_df['price'] = pd.to_numeric(cleaned_df['price'], errors='coerce').astype(float)\n",
    "cleaned_df['service_fee'] = pd.to_numeric(cleaned_df['service_fee'], errors='coerce').astype(float)\n",
    "\n"
   ]
  },
  {
   "cell_type": "code",
   "execution_count": 19,
   "id": "64b4d348",
   "metadata": {
    "execution": {
     "iopub.execute_input": "2023-12-23T16:01:49.033547Z",
     "iopub.status.busy": "2023-12-23T16:01:49.033163Z",
     "iopub.status.idle": "2023-12-23T16:01:49.046783Z",
     "shell.execute_reply": "2023-12-23T16:01:49.045299Z"
    },
    "papermill": {
     "duration": 0.028082,
     "end_time": "2023-12-23T16:01:49.048923",
     "exception": false,
     "start_time": "2023-12-23T16:01:49.020841",
     "status": "completed"
    },
    "tags": []
   },
   "outputs": [
    {
     "name": "stdout",
     "output_type": "stream",
     "text": [
      "                                               name host_identity_verified  \\\n",
      "0                Clean & quiet apt home by the park            unconfirmed   \n",
      "1                             Skylit Midtown Castle               verified   \n",
      "2               THE VILLAGE OF HARLEM....NEW YORK !                    NaN   \n",
      "3                                               NaN            unconfirmed   \n",
      "4  Entire Apt: Spacious Studio/Loft by central park               verified   \n",
      "\n",
      "  host_name neighbourhood_group neighbourhood instant_bookable  \\\n",
      "0  Madaline            Brooklyn    Kensington            False   \n",
      "1     Jenna           Manhattan       Midtown            False   \n",
      "2     Elise           Manhattan        Harlem             True   \n",
      "3     Garry            Brooklyn  Clinton Hill             True   \n",
      "4    Lyndon           Manhattan   East Harlem            False   \n",
      "\n",
      "  cancellation_policy        room_type  construction_year  price  service_fee  \\\n",
      "0              strict     Private room             2020.0  966.0        193.0   \n",
      "1            moderate  Entire home/apt             2007.0  142.0         28.0   \n",
      "2            flexible     Private room             2005.0  620.0        124.0   \n",
      "3            moderate  Entire home/apt             2005.0  368.0         74.0   \n",
      "4            moderate  Entire home/apt             2009.0  204.0         41.0   \n",
      "\n",
      "   minimum_nights  number_of_reviews last_review  reviews_per_month  \\\n",
      "0            10.0                9.0  10/19/2021               0.21   \n",
      "1            30.0               45.0   5/21/2022               0.38   \n",
      "2             3.0                0.0         NaN                NaN   \n",
      "3            30.0              270.0    7/5/2019               4.64   \n",
      "4            10.0                9.0  11/19/2018               0.10   \n",
      "\n",
      "   review_rate_number  calculated_host_listings_count  days_booked  \n",
      "0                 4.0                             6.0        286.0  \n",
      "1                 4.0                             2.0        228.0  \n",
      "2                 5.0                             1.0        352.0  \n",
      "3                 4.0                             1.0        322.0  \n",
      "4                 3.0                             1.0        289.0  \n"
     ]
    }
   ],
   "source": [
    "#check values\n",
    "print(cleaned_df.head(5))"
   ]
  },
  {
   "cell_type": "code",
   "execution_count": 20,
   "id": "5f38d916",
   "metadata": {
    "execution": {
     "iopub.execute_input": "2023-12-23T16:01:49.072802Z",
     "iopub.status.busy": "2023-12-23T16:01:49.072430Z",
     "iopub.status.idle": "2023-12-23T16:01:49.099451Z",
     "shell.execute_reply": "2023-12-23T16:01:49.098065Z"
    },
    "papermill": {
     "duration": 0.041891,
     "end_time": "2023-12-23T16:01:49.101789",
     "exception": false,
     "start_time": "2023-12-23T16:01:49.059898",
     "status": "completed"
    },
    "tags": []
   },
   "outputs": [
    {
     "data": {
      "text/html": [
       "<div>\n",
       "<style scoped>\n",
       "    .dataframe tbody tr th:only-of-type {\n",
       "        vertical-align: middle;\n",
       "    }\n",
       "\n",
       "    .dataframe tbody tr th {\n",
       "        vertical-align: top;\n",
       "    }\n",
       "\n",
       "    .dataframe thead th {\n",
       "        text-align: right;\n",
       "    }\n",
       "</style>\n",
       "<table border=\"1\" class=\"dataframe\">\n",
       "  <thead>\n",
       "    <tr style=\"text-align: right;\">\n",
       "      <th></th>\n",
       "      <th>name</th>\n",
       "      <th>host_identity_verified</th>\n",
       "      <th>host_name</th>\n",
       "      <th>neighbourhood_group</th>\n",
       "      <th>neighbourhood</th>\n",
       "      <th>instant_bookable</th>\n",
       "      <th>cancellation_policy</th>\n",
       "      <th>room_type</th>\n",
       "      <th>construction_year</th>\n",
       "      <th>price</th>\n",
       "      <th>service_fee</th>\n",
       "      <th>minimum_nights</th>\n",
       "      <th>number_of_reviews</th>\n",
       "      <th>last_review</th>\n",
       "      <th>reviews_per_month</th>\n",
       "      <th>review_rate_number</th>\n",
       "      <th>calculated_host_listings_count</th>\n",
       "      <th>days_booked</th>\n",
       "    </tr>\n",
       "  </thead>\n",
       "  <tbody>\n",
       "    <tr>\n",
       "      <th>0</th>\n",
       "      <td>Clean &amp; quiet apt home by the park</td>\n",
       "      <td>unconfirmed</td>\n",
       "      <td>Madaline</td>\n",
       "      <td>Brooklyn</td>\n",
       "      <td>Kensington</td>\n",
       "      <td>False</td>\n",
       "      <td>strict</td>\n",
       "      <td>Private room</td>\n",
       "      <td>2020.0</td>\n",
       "      <td>966.0</td>\n",
       "      <td>193.0</td>\n",
       "      <td>10.0</td>\n",
       "      <td>9.0</td>\n",
       "      <td>10/19/2021</td>\n",
       "      <td>0.21</td>\n",
       "      <td>4.0</td>\n",
       "      <td>6.0</td>\n",
       "      <td>286.0</td>\n",
       "    </tr>\n",
       "    <tr>\n",
       "      <th>1</th>\n",
       "      <td>Skylit Midtown Castle</td>\n",
       "      <td>verified</td>\n",
       "      <td>Jenna</td>\n",
       "      <td>Manhattan</td>\n",
       "      <td>Midtown</td>\n",
       "      <td>False</td>\n",
       "      <td>moderate</td>\n",
       "      <td>Entire home/apt</td>\n",
       "      <td>2007.0</td>\n",
       "      <td>142.0</td>\n",
       "      <td>28.0</td>\n",
       "      <td>30.0</td>\n",
       "      <td>45.0</td>\n",
       "      <td>5/21/2022</td>\n",
       "      <td>0.38</td>\n",
       "      <td>4.0</td>\n",
       "      <td>2.0</td>\n",
       "      <td>228.0</td>\n",
       "    </tr>\n",
       "    <tr>\n",
       "      <th>2</th>\n",
       "      <td>THE VILLAGE OF HARLEM....NEW YORK !</td>\n",
       "      <td>NaN</td>\n",
       "      <td>Elise</td>\n",
       "      <td>Manhattan</td>\n",
       "      <td>Harlem</td>\n",
       "      <td>True</td>\n",
       "      <td>flexible</td>\n",
       "      <td>Private room</td>\n",
       "      <td>2005.0</td>\n",
       "      <td>620.0</td>\n",
       "      <td>124.0</td>\n",
       "      <td>3.0</td>\n",
       "      <td>0.0</td>\n",
       "      <td>NaN</td>\n",
       "      <td>NaN</td>\n",
       "      <td>5.0</td>\n",
       "      <td>1.0</td>\n",
       "      <td>352.0</td>\n",
       "    </tr>\n",
       "    <tr>\n",
       "      <th>3</th>\n",
       "      <td>NaN</td>\n",
       "      <td>unconfirmed</td>\n",
       "      <td>Garry</td>\n",
       "      <td>Brooklyn</td>\n",
       "      <td>Clinton Hill</td>\n",
       "      <td>True</td>\n",
       "      <td>moderate</td>\n",
       "      <td>Entire home/apt</td>\n",
       "      <td>2005.0</td>\n",
       "      <td>368.0</td>\n",
       "      <td>74.0</td>\n",
       "      <td>30.0</td>\n",
       "      <td>270.0</td>\n",
       "      <td>7/5/2019</td>\n",
       "      <td>4.64</td>\n",
       "      <td>4.0</td>\n",
       "      <td>1.0</td>\n",
       "      <td>322.0</td>\n",
       "    </tr>\n",
       "    <tr>\n",
       "      <th>4</th>\n",
       "      <td>Entire Apt: Spacious Studio/Loft by central park</td>\n",
       "      <td>verified</td>\n",
       "      <td>Lyndon</td>\n",
       "      <td>Manhattan</td>\n",
       "      <td>East Harlem</td>\n",
       "      <td>False</td>\n",
       "      <td>moderate</td>\n",
       "      <td>Entire home/apt</td>\n",
       "      <td>2009.0</td>\n",
       "      <td>204.0</td>\n",
       "      <td>41.0</td>\n",
       "      <td>10.0</td>\n",
       "      <td>9.0</td>\n",
       "      <td>11/19/2018</td>\n",
       "      <td>0.10</td>\n",
       "      <td>3.0</td>\n",
       "      <td>1.0</td>\n",
       "      <td>289.0</td>\n",
       "    </tr>\n",
       "  </tbody>\n",
       "</table>\n",
       "</div>"
      ],
      "text/plain": [
       "                                               name host_identity_verified  \\\n",
       "0                Clean & quiet apt home by the park            unconfirmed   \n",
       "1                             Skylit Midtown Castle               verified   \n",
       "2               THE VILLAGE OF HARLEM....NEW YORK !                    NaN   \n",
       "3                                               NaN            unconfirmed   \n",
       "4  Entire Apt: Spacious Studio/Loft by central park               verified   \n",
       "\n",
       "  host_name neighbourhood_group neighbourhood instant_bookable  \\\n",
       "0  Madaline            Brooklyn    Kensington            False   \n",
       "1     Jenna           Manhattan       Midtown            False   \n",
       "2     Elise           Manhattan        Harlem             True   \n",
       "3     Garry            Brooklyn  Clinton Hill             True   \n",
       "4    Lyndon           Manhattan   East Harlem            False   \n",
       "\n",
       "  cancellation_policy        room_type  construction_year  price  service_fee  \\\n",
       "0              strict     Private room             2020.0  966.0        193.0   \n",
       "1            moderate  Entire home/apt             2007.0  142.0         28.0   \n",
       "2            flexible     Private room             2005.0  620.0        124.0   \n",
       "3            moderate  Entire home/apt             2005.0  368.0         74.0   \n",
       "4            moderate  Entire home/apt             2009.0  204.0         41.0   \n",
       "\n",
       "   minimum_nights  number_of_reviews last_review  reviews_per_month  \\\n",
       "0            10.0                9.0  10/19/2021               0.21   \n",
       "1            30.0               45.0   5/21/2022               0.38   \n",
       "2             3.0                0.0         NaN                NaN   \n",
       "3            30.0              270.0    7/5/2019               4.64   \n",
       "4            10.0                9.0  11/19/2018               0.10   \n",
       "\n",
       "   review_rate_number  calculated_host_listings_count  days_booked  \n",
       "0                 4.0                             6.0        286.0  \n",
       "1                 4.0                             2.0        228.0  \n",
       "2                 5.0                             1.0        352.0  \n",
       "3                 4.0                             1.0        322.0  \n",
       "4                 3.0                             1.0        289.0  "
      ]
     },
     "metadata": {},
     "output_type": "display_data"
    }
   ],
   "source": [
    "display(cleaned_df.head(5))"
   ]
  },
  {
   "cell_type": "code",
   "execution_count": 21,
   "id": "788463a2",
   "metadata": {
    "execution": {
     "iopub.execute_input": "2023-12-23T16:01:49.125563Z",
     "iopub.status.busy": "2023-12-23T16:01:49.125149Z",
     "iopub.status.idle": "2023-12-23T16:01:49.131198Z",
     "shell.execute_reply": "2023-12-23T16:01:49.130498Z"
    },
    "papermill": {
     "duration": 0.019957,
     "end_time": "2023-12-23T16:01:49.133023",
     "exception": false,
     "start_time": "2023-12-23T16:01:49.113066",
     "status": "completed"
    },
    "tags": []
   },
   "outputs": [
    {
     "data": {
      "text/plain": [
       "Index(['name', 'host_identity_verified', 'host_name', 'neighbourhood_group',\n",
       "       'neighbourhood', 'instant_bookable', 'cancellation_policy', 'room_type',\n",
       "       'construction_year', 'price', 'service_fee', 'minimum_nights',\n",
       "       'number_of_reviews', 'last_review', 'reviews_per_month',\n",
       "       'review_rate_number', 'calculated_host_listings_count', 'days_booked'],\n",
       "      dtype='object')"
      ]
     },
     "execution_count": 21,
     "metadata": {},
     "output_type": "execute_result"
    }
   ],
   "source": [
    "cleaned_df.columns"
   ]
  },
  {
   "cell_type": "code",
   "execution_count": 22,
   "id": "71e0a8c7",
   "metadata": {
    "execution": {
     "iopub.execute_input": "2023-12-23T16:01:49.159182Z",
     "iopub.status.busy": "2023-12-23T16:01:49.158807Z",
     "iopub.status.idle": "2023-12-23T16:01:49.171021Z",
     "shell.execute_reply": "2023-12-23T16:01:49.169141Z"
    },
    "papermill": {
     "duration": 0.028915,
     "end_time": "2023-12-23T16:01:49.173553",
     "exception": false,
     "start_time": "2023-12-23T16:01:49.144638",
     "status": "completed"
    },
    "tags": []
   },
   "outputs": [],
   "source": [
    "# Convert the specified columns to integer data type\n",
    "cleaned_df['minimum_nights'] = cleaned_df['minimum_nights'].fillna(0).astype(int)\n",
    "cleaned_df['number_of_reviews'] = cleaned_df['number_of_reviews'].fillna(0).astype(int)\n",
    "cleaned_df['review_rate_number'] = cleaned_df['review_rate_number'].fillna(0).astype(int)\n",
    "cleaned_df['calculated_host_listings_count'] = cleaned_df['calculated_host_listings_count'].fillna(0).astype(int)\n",
    "cleaned_df['days_booked'] = cleaned_df['days_booked'].fillna(0).astype(int)"
   ]
  },
  {
   "cell_type": "code",
   "execution_count": 23,
   "id": "ab53ff2d",
   "metadata": {
    "execution": {
     "iopub.execute_input": "2023-12-23T16:01:49.198123Z",
     "iopub.status.busy": "2023-12-23T16:01:49.197719Z",
     "iopub.status.idle": "2023-12-23T16:01:49.210188Z",
     "shell.execute_reply": "2023-12-23T16:01:49.208863Z"
    },
    "papermill": {
     "duration": 0.028042,
     "end_time": "2023-12-23T16:01:49.212947",
     "exception": false,
     "start_time": "2023-12-23T16:01:49.184905",
     "status": "completed"
    },
    "tags": []
   },
   "outputs": [
    {
     "name": "stdout",
     "output_type": "stream",
     "text": [
      "Columns converted to integer.\n"
     ]
    }
   ],
   "source": [
    "# Convert the specified columns to integer data type\n",
    "columns_to_convert = ['minimum_nights', 'number_of_reviews', 'review_rate_number',\n",
    "                      'calculated_host_listings_count', 'days_booked']\n",
    "\n",
    "cleaned_df[columns_to_convert] = cleaned_df[columns_to_convert].astype(int)\n",
    "print('Columns converted to integer.')"
   ]
  },
  {
   "cell_type": "code",
   "execution_count": 24,
   "id": "0e452371",
   "metadata": {
    "execution": {
     "iopub.execute_input": "2023-12-23T16:01:49.238260Z",
     "iopub.status.busy": "2023-12-23T16:01:49.237597Z",
     "iopub.status.idle": "2023-12-23T16:01:49.253373Z",
     "shell.execute_reply": "2023-12-23T16:01:49.252610Z"
    },
    "papermill": {
     "duration": 0.031089,
     "end_time": "2023-12-23T16:01:49.255731",
     "exception": false,
     "start_time": "2023-12-23T16:01:49.224642",
     "status": "completed"
    },
    "tags": []
   },
   "outputs": [],
   "source": [
    "# Convert 'construction_year' column to datetime year\n",
    "cleaned_df['construction_year'] = pd.to_datetime(cleaned_df['construction_year'], format='%Y').dt.year"
   ]
  },
  {
   "cell_type": "code",
   "execution_count": 25,
   "id": "3039e57d",
   "metadata": {
    "execution": {
     "iopub.execute_input": "2023-12-23T16:01:49.279929Z",
     "iopub.status.busy": "2023-12-23T16:01:49.279353Z",
     "iopub.status.idle": "2023-12-23T16:01:49.316869Z",
     "shell.execute_reply": "2023-12-23T16:01:49.315880Z"
    },
    "papermill": {
     "duration": 0.052431,
     "end_time": "2023-12-23T16:01:49.319368",
     "exception": false,
     "start_time": "2023-12-23T16:01:49.266937",
     "status": "completed"
    },
    "tags": []
   },
   "outputs": [],
   "source": [
    "# Convert 'last_review' column to datetime without time\n",
    "cleaned_df['last_review'] = pd.to_datetime(cleaned_df['last_review']).dt.date"
   ]
  },
  {
   "cell_type": "code",
   "execution_count": 26,
   "id": "4233a48c",
   "metadata": {
    "execution": {
     "iopub.execute_input": "2023-12-23T16:01:49.344318Z",
     "iopub.status.busy": "2023-12-23T16:01:49.343730Z",
     "iopub.status.idle": "2023-12-23T16:01:49.360098Z",
     "shell.execute_reply": "2023-12-23T16:01:49.358055Z"
    },
    "papermill": {
     "duration": 0.032518,
     "end_time": "2023-12-23T16:01:49.363386",
     "exception": false,
     "start_time": "2023-12-23T16:01:49.330868",
     "status": "completed"
    },
    "tags": []
   },
   "outputs": [
    {
     "name": "stdout",
     "output_type": "stream",
     "text": [
      "[2020. 2007. 2005. 2009. 2013. 2015. 2004. 2008. 2010. 2019. 2018. 2006.\n",
      " 2016. 2017. 2021. 2003. 2011. 2012. 2022. 2014.   nan]\n"
     ]
    }
   ],
   "source": [
    "# Replace '1900' with NaN before conversion\n",
    "cleaned_df['construction_year'] = cleaned_df['construction_year'].replace(1900, np.nan)\n",
    "\n",
    "# Convert 'construction_year' column to datetime\n",
    "cleaned_df['construction_year'] = pd.to_datetime(cleaned_df['construction_year'], errors='coerce', format='%Y')\n",
    "\n",
    "# Extract the year component\n",
    "cleaned_df['construction_year'] = cleaned_df['construction_year'].dt.year\n",
    "\n",
    "# Check unique values after conversion\n",
    "print(cleaned_df['construction_year'].unique())\n"
   ]
  },
  {
   "cell_type": "code",
   "execution_count": 27,
   "id": "ab6af83d",
   "metadata": {
    "execution": {
     "iopub.execute_input": "2023-12-23T16:01:49.388877Z",
     "iopub.status.busy": "2023-12-23T16:01:49.387759Z",
     "iopub.status.idle": "2023-12-23T16:01:49.447152Z",
     "shell.execute_reply": "2023-12-23T16:01:49.446260Z"
    },
    "papermill": {
     "duration": 0.074248,
     "end_time": "2023-12-23T16:01:49.449696",
     "exception": false,
     "start_time": "2023-12-23T16:01:49.375448",
     "status": "completed"
    },
    "tags": []
   },
   "outputs": [
    {
     "data": {
      "text/html": [
       "<div>\n",
       "<style scoped>\n",
       "    .dataframe tbody tr th:only-of-type {\n",
       "        vertical-align: middle;\n",
       "    }\n",
       "\n",
       "    .dataframe tbody tr th {\n",
       "        vertical-align: top;\n",
       "    }\n",
       "\n",
       "    .dataframe thead th {\n",
       "        text-align: right;\n",
       "    }\n",
       "</style>\n",
       "<table border=\"1\" class=\"dataframe\">\n",
       "  <thead>\n",
       "    <tr style=\"text-align: right;\">\n",
       "      <th></th>\n",
       "      <th>name</th>\n",
       "      <th>host_identity_verified</th>\n",
       "      <th>host_name</th>\n",
       "      <th>neighbourhood_group</th>\n",
       "      <th>neighbourhood</th>\n",
       "      <th>instant_bookable</th>\n",
       "      <th>cancellation_policy</th>\n",
       "      <th>room_type</th>\n",
       "      <th>construction_year</th>\n",
       "      <th>price</th>\n",
       "      <th>service_fee</th>\n",
       "      <th>minimum_nights</th>\n",
       "      <th>number_of_reviews</th>\n",
       "      <th>last_review</th>\n",
       "      <th>reviews_per_month</th>\n",
       "      <th>review_rate_number</th>\n",
       "      <th>calculated_host_listings_count</th>\n",
       "      <th>days_booked</th>\n",
       "    </tr>\n",
       "  </thead>\n",
       "  <tbody>\n",
       "    <tr>\n",
       "      <th>0</th>\n",
       "      <td>Clean &amp; quiet apt home by the park</td>\n",
       "      <td>unconfirmed</td>\n",
       "      <td>Madaline</td>\n",
       "      <td>Brooklyn</td>\n",
       "      <td>Kensington</td>\n",
       "      <td>False</td>\n",
       "      <td>strict</td>\n",
       "      <td>Private room</td>\n",
       "      <td>2020.0</td>\n",
       "      <td>966.0</td>\n",
       "      <td>193.0</td>\n",
       "      <td>10</td>\n",
       "      <td>9</td>\n",
       "      <td>2021-10-19</td>\n",
       "      <td>0.21</td>\n",
       "      <td>4</td>\n",
       "      <td>6</td>\n",
       "      <td>286</td>\n",
       "    </tr>\n",
       "    <tr>\n",
       "      <th>1</th>\n",
       "      <td>Skylit Midtown Castle</td>\n",
       "      <td>verified</td>\n",
       "      <td>Jenna</td>\n",
       "      <td>Manhattan</td>\n",
       "      <td>Midtown</td>\n",
       "      <td>False</td>\n",
       "      <td>moderate</td>\n",
       "      <td>Entire home/apt</td>\n",
       "      <td>2007.0</td>\n",
       "      <td>142.0</td>\n",
       "      <td>28.0</td>\n",
       "      <td>30</td>\n",
       "      <td>45</td>\n",
       "      <td>2022-05-21</td>\n",
       "      <td>0.38</td>\n",
       "      <td>4</td>\n",
       "      <td>2</td>\n",
       "      <td>228</td>\n",
       "    </tr>\n",
       "    <tr>\n",
       "      <th>2</th>\n",
       "      <td>THE VILLAGE OF HARLEM....NEW YORK !</td>\n",
       "      <td>NaN</td>\n",
       "      <td>Elise</td>\n",
       "      <td>Manhattan</td>\n",
       "      <td>Harlem</td>\n",
       "      <td>True</td>\n",
       "      <td>flexible</td>\n",
       "      <td>Private room</td>\n",
       "      <td>2005.0</td>\n",
       "      <td>620.0</td>\n",
       "      <td>124.0</td>\n",
       "      <td>3</td>\n",
       "      <td>0</td>\n",
       "      <td>NaT</td>\n",
       "      <td>NaN</td>\n",
       "      <td>5</td>\n",
       "      <td>1</td>\n",
       "      <td>352</td>\n",
       "    </tr>\n",
       "    <tr>\n",
       "      <th>3</th>\n",
       "      <td>NaN</td>\n",
       "      <td>unconfirmed</td>\n",
       "      <td>Garry</td>\n",
       "      <td>Brooklyn</td>\n",
       "      <td>Clinton Hill</td>\n",
       "      <td>True</td>\n",
       "      <td>moderate</td>\n",
       "      <td>Entire home/apt</td>\n",
       "      <td>2005.0</td>\n",
       "      <td>368.0</td>\n",
       "      <td>74.0</td>\n",
       "      <td>30</td>\n",
       "      <td>270</td>\n",
       "      <td>2019-07-05</td>\n",
       "      <td>4.64</td>\n",
       "      <td>4</td>\n",
       "      <td>1</td>\n",
       "      <td>322</td>\n",
       "    </tr>\n",
       "    <tr>\n",
       "      <th>4</th>\n",
       "      <td>Entire Apt: Spacious Studio/Loft by central park</td>\n",
       "      <td>verified</td>\n",
       "      <td>Lyndon</td>\n",
       "      <td>Manhattan</td>\n",
       "      <td>East Harlem</td>\n",
       "      <td>False</td>\n",
       "      <td>moderate</td>\n",
       "      <td>Entire home/apt</td>\n",
       "      <td>2009.0</td>\n",
       "      <td>204.0</td>\n",
       "      <td>41.0</td>\n",
       "      <td>10</td>\n",
       "      <td>9</td>\n",
       "      <td>2018-11-19</td>\n",
       "      <td>0.10</td>\n",
       "      <td>3</td>\n",
       "      <td>1</td>\n",
       "      <td>289</td>\n",
       "    </tr>\n",
       "  </tbody>\n",
       "</table>\n",
       "</div>"
      ],
      "text/plain": [
       "                                               name host_identity_verified  \\\n",
       "0                Clean & quiet apt home by the park            unconfirmed   \n",
       "1                             Skylit Midtown Castle               verified   \n",
       "2               THE VILLAGE OF HARLEM....NEW YORK !                    NaN   \n",
       "3                                               NaN            unconfirmed   \n",
       "4  Entire Apt: Spacious Studio/Loft by central park               verified   \n",
       "\n",
       "  host_name neighbourhood_group neighbourhood instant_bookable  \\\n",
       "0  Madaline            Brooklyn    Kensington            False   \n",
       "1     Jenna           Manhattan       Midtown            False   \n",
       "2     Elise           Manhattan        Harlem             True   \n",
       "3     Garry            Brooklyn  Clinton Hill             True   \n",
       "4    Lyndon           Manhattan   East Harlem            False   \n",
       "\n",
       "  cancellation_policy        room_type  construction_year  price  service_fee  \\\n",
       "0              strict     Private room             2020.0  966.0        193.0   \n",
       "1            moderate  Entire home/apt             2007.0  142.0         28.0   \n",
       "2            flexible     Private room             2005.0  620.0        124.0   \n",
       "3            moderate  Entire home/apt             2005.0  368.0         74.0   \n",
       "4            moderate  Entire home/apt             2009.0  204.0         41.0   \n",
       "\n",
       "   minimum_nights  number_of_reviews last_review  reviews_per_month  \\\n",
       "0              10                  9  2021-10-19               0.21   \n",
       "1              30                 45  2022-05-21               0.38   \n",
       "2               3                  0         NaT                NaN   \n",
       "3              30                270  2019-07-05               4.64   \n",
       "4              10                  9  2018-11-19               0.10   \n",
       "\n",
       "   review_rate_number  calculated_host_listings_count  days_booked  \n",
       "0                   4                               6          286  \n",
       "1                   4                               2          228  \n",
       "2                   5                               1          352  \n",
       "3                   4                               1          322  \n",
       "4                   3                               1          289  "
      ]
     },
     "execution_count": 27,
     "metadata": {},
     "output_type": "execute_result"
    }
   ],
   "source": [
    "# Convert 'construction_year' column to datetime year\n",
    "cleaned_df['construction_year'] = pd.to_datetime(cleaned_df['construction_year'], errors='coerce', format='%Y')\n",
    "cleaned_df['construction_year'] = cleaned_df['construction_year'].dt.year\n",
    "\n",
    "# Convert 'last_review' column to datetime without time\n",
    "cleaned_df['last_review'] = pd.to_datetime(cleaned_df['last_review']).dt.date\n",
    "\n",
    "cleaned_df.head(5)"
   ]
  },
  {
   "cell_type": "code",
   "execution_count": 28,
   "id": "8b4914bc",
   "metadata": {
    "execution": {
     "iopub.execute_input": "2023-12-23T16:01:49.477134Z",
     "iopub.status.busy": "2023-12-23T16:01:49.476257Z",
     "iopub.status.idle": "2023-12-23T16:01:49.725238Z",
     "shell.execute_reply": "2023-12-23T16:01:49.724060Z"
    },
    "papermill": {
     "duration": 0.265537,
     "end_time": "2023-12-23T16:01:49.727892",
     "exception": false,
     "start_time": "2023-12-23T16:01:49.462355",
     "status": "completed"
    },
    "tags": []
   },
   "outputs": [],
   "source": [
    "import re\n",
    "import numpy as np\n",
    "\n",
    "def clean_neighborhood_group(group):\n",
    "    corrections = {\n",
    "        'brookln': 'Brooklyn',\n",
    "        'manhatan': 'Manhattan'\n",
    "        # Add other misspelled names and their corrections here\n",
    "    }\n",
    "\n",
    "    if isinstance(group, str):\n",
    "        pattern = re.compile(r'\\b(' + '|'.join(corrections.keys()) + r')\\b', re.IGNORECASE)\n",
    "        cleaned_group = pattern.sub(lambda x: corrections[x.group().lower()], group)\n",
    "        return cleaned_group\n",
    "    else:\n",
    "        return np.nan  # Set non-string or missing values to NaN\n",
    "\n",
    "# Clean up the neighborhood group names in the dataframe\n",
    "cleaned_df['neighbourhood_group'] = cleaned_df['neighbourhood_group'].apply(clean_neighborhood_group)\n",
    "\n",
    "group_counts = cleaned_df['neighbourhood_group'].unique()"
   ]
  },
  {
   "cell_type": "code",
   "execution_count": 29,
   "id": "735884f3",
   "metadata": {
    "execution": {
     "iopub.execute_input": "2023-12-23T16:01:49.752730Z",
     "iopub.status.busy": "2023-12-23T16:01:49.752348Z",
     "iopub.status.idle": "2023-12-23T16:01:49.757263Z",
     "shell.execute_reply": "2023-12-23T16:01:49.755734Z"
    },
    "papermill": {
     "duration": 0.020213,
     "end_time": "2023-12-23T16:01:49.759785",
     "exception": false,
     "start_time": "2023-12-23T16:01:49.739572",
     "status": "completed"
    },
    "tags": []
   },
   "outputs": [],
   "source": [
    "#Task 4: Exploratory Data Analysis\n"
   ]
  },
  {
   "cell_type": "code",
   "execution_count": 30,
   "id": "c8e75610",
   "metadata": {
    "execution": {
     "iopub.execute_input": "2023-12-23T16:01:49.786329Z",
     "iopub.status.busy": "2023-12-23T16:01:49.785912Z",
     "iopub.status.idle": "2023-12-23T16:01:49.799612Z",
     "shell.execute_reply": "2023-12-23T16:01:49.798283Z"
    },
    "papermill": {
     "duration": 0.030317,
     "end_time": "2023-12-23T16:01:49.802385",
     "exception": false,
     "start_time": "2023-12-23T16:01:49.772068",
     "status": "completed"
    },
    "tags": []
   },
   "outputs": [
    {
     "name": "stdout",
     "output_type": "stream",
     "text": [
      "room_type\n",
      "Entire home/apt    51922\n",
      "Private room       44803\n",
      "Shared room         2144\n",
      "Hotel room           115\n",
      "Name: count, dtype: int64\n"
     ]
    }
   ],
   "source": [
    "#Count of various room types available\n",
    "room_type_counts = cleaned_df['room_type'].value_counts()\n",
    "print(room_type_counts)\n"
   ]
  },
  {
   "cell_type": "code",
   "execution_count": 31,
   "id": "35eaf6e5",
   "metadata": {
    "execution": {
     "iopub.execute_input": "2023-12-23T16:01:49.827983Z",
     "iopub.status.busy": "2023-12-23T16:01:49.827612Z",
     "iopub.status.idle": "2023-12-23T16:01:49.850035Z",
     "shell.execute_reply": "2023-12-23T16:01:49.848804Z"
    },
    "papermill": {
     "duration": 0.037978,
     "end_time": "2023-12-23T16:01:49.852666",
     "exception": false,
     "start_time": "2023-12-23T16:01:49.814688",
     "status": "completed"
    },
    "tags": []
   },
   "outputs": [
    {
     "name": "stdout",
     "output_type": "stream",
     "text": [
      "Room type with the most strict cancellation policy: Entire home/apt\n"
     ]
    }
   ],
   "source": [
    "#Room type with the most strict cancellation policy\n",
    "strict_cancellation = cleaned_df[cleaned_df['cancellation_policy'] == 'strict']\n",
    "most_common_room_type_strict = strict_cancellation['room_type'].value_counts().idxmax()\n",
    "print(f\"Room type with the most strict cancellation policy: {most_common_room_type_strict}\")"
   ]
  },
  {
   "cell_type": "code",
   "execution_count": 32,
   "id": "7c99768f",
   "metadata": {
    "execution": {
     "iopub.execute_input": "2023-12-23T16:01:49.878003Z",
     "iopub.status.busy": "2023-12-23T16:01:49.877606Z",
     "iopub.status.idle": "2023-12-23T16:01:49.897324Z",
     "shell.execute_reply": "2023-12-23T16:01:49.895754Z"
    },
    "papermill": {
     "duration": 0.034967,
     "end_time": "2023-12-23T16:01:49.899666",
     "exception": false,
     "start_time": "2023-12-23T16:01:49.864699",
     "status": "completed"
    },
    "tags": []
   },
   "outputs": [
    {
     "name": "stdout",
     "output_type": "stream",
     "text": [
      "neighbourhood\n",
      "New Dorp                      1045.333333\n",
      "Chelsea, Staten Island        1042.000000\n",
      "Fort Wadsworth                1024.000000\n",
      "Little Neck                    817.750000\n",
      "Jamaica Hills                  812.904762\n",
      "                                 ...     \n",
      "Rossville                      327.500000\n",
      "Breezy Point                   309.888889\n",
      "Spuyten Duyvil                 307.000000\n",
      "Bay Terrace, Staten Island     306.000000\n",
      "Lighthouse Hill                107.666667\n",
      "Name: price, Length: 224, dtype: float64\n"
     ]
    }
   ],
   "source": [
    "# List the average prices by neighborhood, sort most expensive to least\n",
    "average_prices_neighborhood = cleaned_df.groupby('neighbourhood')['price'].mean().sort_values(ascending=False)\n",
    "\n",
    "# Display the sorted average prices by neighborhood\n",
    "print(average_prices_neighborhood)\n"
   ]
  },
  {
   "cell_type": "code",
   "execution_count": 33,
   "id": "1a6d281c",
   "metadata": {
    "execution": {
     "iopub.execute_input": "2023-12-23T16:01:49.925457Z",
     "iopub.status.busy": "2023-12-23T16:01:49.924869Z",
     "iopub.status.idle": "2023-12-23T16:01:49.958702Z",
     "shell.execute_reply": "2023-12-23T16:01:49.957013Z"
    },
    "papermill": {
     "duration": 0.049492,
     "end_time": "2023-12-23T16:01:49.961072",
     "exception": false,
     "start_time": "2023-12-23T16:01:49.911580",
     "status": "completed"
    },
    "tags": []
   },
   "outputs": [],
   "source": [
    "# Remove rows with empty values in neighbourhood_group or neighbourhood columns\n",
    "cleaned_df.dropna(subset=['neighbourhood_group', 'neighbourhood'], inplace=True)\n"
   ]
  },
  {
   "cell_type": "code",
   "execution_count": 34,
   "id": "9a3074ce",
   "metadata": {
    "execution": {
     "iopub.execute_input": "2023-12-23T16:01:49.987072Z",
     "iopub.status.busy": "2023-12-23T16:01:49.986743Z",
     "iopub.status.idle": "2023-12-23T16:01:50.000754Z",
     "shell.execute_reply": "2023-12-23T16:01:49.999760Z"
    },
    "papermill": {
     "duration": 0.029801,
     "end_time": "2023-12-23T16:01:50.003473",
     "exception": false,
     "start_time": "2023-12-23T16:01:49.973672",
     "status": "completed"
    },
    "tags": []
   },
   "outputs": [
    {
     "name": "stdout",
     "output_type": "stream",
     "text": [
      "neighbourhood_group\n",
      "Queens           629.626468\n",
      "Staten Island    627.277412\n",
      "Bronx            626.864003\n",
      "Brooklyn         626.427701\n",
      "Manhattan        622.665031\n",
      "Name: price, dtype: float64\n"
     ]
    }
   ],
   "source": [
    "# Calculate average prices by neighborhood group and sort by price in descending order\n",
    "average_prices = cleaned_df.groupby('neighbourhood_group')['price'].mean().sort_values(ascending=False)\n",
    "print(average_prices)\n"
   ]
  },
  {
   "cell_type": "code",
   "execution_count": 35,
   "id": "b056bb8f",
   "metadata": {
    "execution": {
     "iopub.execute_input": "2023-12-23T16:01:50.029271Z",
     "iopub.status.busy": "2023-12-23T16:01:50.028861Z",
     "iopub.status.idle": "2023-12-23T16:01:50.036680Z",
     "shell.execute_reply": "2023-12-23T16:01:50.034984Z"
    },
    "papermill": {
     "duration": 0.023845,
     "end_time": "2023-12-23T16:01:50.039477",
     "exception": false,
     "start_time": "2023-12-23T16:01:50.015632",
     "status": "completed"
    },
    "tags": []
   },
   "outputs": [
    {
     "data": {
      "text/plain": [
       "'Queens'"
      ]
     },
     "execution_count": 35,
     "metadata": {},
     "output_type": "execute_result"
    }
   ],
   "source": [
    "# Highlight the most expensive neighborhood\n",
    "most_expensive_neighborhood = average_prices.idxmax()\n",
    "most_expensive_neighborhood"
   ]
  },
  {
   "cell_type": "code",
   "execution_count": 36,
   "id": "8126366a",
   "metadata": {
    "execution": {
     "iopub.execute_input": "2023-12-23T16:01:50.065754Z",
     "iopub.status.busy": "2023-12-23T16:01:50.065383Z",
     "iopub.status.idle": "2023-12-23T16:01:50.072151Z",
     "shell.execute_reply": "2023-12-23T16:01:50.070619Z"
    },
    "papermill": {
     "duration": 0.022853,
     "end_time": "2023-12-23T16:01:50.074596",
     "exception": false,
     "start_time": "2023-12-23T16:01:50.051743",
     "status": "completed"
    },
    "tags": []
   },
   "outputs": [
    {
     "data": {
      "text/plain": [
       "'Queens'"
      ]
     },
     "execution_count": 36,
     "metadata": {},
     "output_type": "execute_result"
    }
   ],
   "source": [
    "# Highlight the most expensive neighborhood\n",
    "most_expensive_neighborhood_group = average_prices.idxmax()\n",
    "most_expensive_neighborhood_group"
   ]
  },
  {
   "cell_type": "code",
   "execution_count": 37,
   "id": "918881e7",
   "metadata": {
    "execution": {
     "iopub.execute_input": "2023-12-23T16:01:50.101736Z",
     "iopub.status.busy": "2023-12-23T16:01:50.101353Z",
     "iopub.status.idle": "2023-12-23T16:01:50.422662Z",
     "shell.execute_reply": "2023-12-23T16:01:50.420974Z"
    },
    "papermill": {
     "duration": 0.338838,
     "end_time": "2023-12-23T16:01:50.425444",
     "exception": false,
     "start_time": "2023-12-23T16:01:50.086606",
     "status": "completed"
    },
    "tags": []
   },
   "outputs": [
    {
     "data": {
      "image/png": "[encoded data removed]",
      "text/plain": [
       "<Figure size 1000x600 with 1 Axes>"
      ]
     },
     "metadata": {},
     "output_type": "display_data"
    }
   ],
   "source": [
    "#Task 5a: Data Visualization\n",
    "#Create a horizontal bar chart to display the top 10 most expensive neighborhoods in the dataset.\n",
    "top_10_expensive = cleaned_df.groupby('neighbourhood')['price'].mean().nlargest(10).sort_values()\n",
    "plt.figure(figsize=(10, 6))\n",
    "top_10_expensive.plot(kind='barh', color='skyblue')\n",
    "plt.title('Top 10 Most Expensive Neighborhoods')\n",
    "plt.xlabel('Average Price')\n",
    "plt.ylabel('Neighborhood')\n",
    "plt.tight_layout()\n",
    "plt.show()"
   ]
  },
  {
   "cell_type": "code",
   "execution_count": 38,
   "id": "8d926ec4",
   "metadata": {
    "execution": {
     "iopub.execute_input": "2023-12-23T16:01:50.452975Z",
     "iopub.status.busy": "2023-12-23T16:01:50.452558Z",
     "iopub.status.idle": "2023-12-23T16:01:50.710430Z",
     "shell.execute_reply": "2023-12-23T16:01:50.709453Z"
    },
    "papermill": {
     "duration": 0.273607,
     "end_time": "2023-12-23T16:01:50.712262",
     "exception": false,
     "start_time": "2023-12-23T16:01:50.438655",
     "status": "completed"
    },
    "tags": []
   },
   "outputs": [
    {
     "data": {
      "image/png": "[encoded data removed]",
      "text/plain": [
       "<Figure size 1000x600 with 1 Axes>"
      ]
     },
     "metadata": {},
     "output_type": "display_data"
    }
   ],
   "source": [
    "#Create another chart with the 10 cheapest neighborhoods in the dataset.\n",
    "top_10_cheapest = cleaned_df.groupby('neighbourhood')['price'].mean().nsmallest(10).sort_values()\n",
    "plt.figure(figsize=(10, 6))\n",
    "top_10_cheapest.plot(kind='barh', color='salmon')\n",
    "plt.title('Top 10 Cheapest Neighborhoods')\n",
    "plt.xlabel('Average Price')\n",
    "plt.ylabel('Neighborhood')\n",
    "plt.tight_layout()\n",
    "plt.show()"
   ]
  },
  {
   "cell_type": "code",
   "execution_count": 39,
   "id": "00c0ff49",
   "metadata": {
    "execution": {
     "iopub.execute_input": "2023-12-23T16:01:50.739567Z",
     "iopub.status.busy": "2023-12-23T16:01:50.739160Z",
     "iopub.status.idle": "2023-12-23T16:01:51.002335Z",
     "shell.execute_reply": "2023-12-23T16:01:51.000767Z"
    },
    "papermill": {
     "duration": 0.279328,
     "end_time": "2023-12-23T16:01:51.004414",
     "exception": false,
     "start_time": "2023-12-23T16:01:50.725086",
     "status": "completed"
    },
    "tags": []
   },
   "outputs": [
    {
     "data": {
      "image/png": "[encoded data removed]",
      "text/plain": [
       "<Figure size 1000x600 with 1 Axes>"
      ]
     },
     "metadata": {},
     "output_type": "display_data"
    }
   ],
   "source": [
    "#Create a box and whisker chart that showcases the price distribution of all listings split by room type.\n",
    "plt.figure(figsize=(10, 6))\n",
    "sns.boxplot(x='room_type', y='price', data=cleaned_df, palette='pastel')\n",
    "plt.title('Price Distribution by Room Type')\n",
    "plt.xlabel('Room Type')\n",
    "plt.ylabel('Price')\n",
    "plt.tight_layout()\n",
    "plt.show()"
   ]
  },
  {
   "cell_type": "code",
   "execution_count": 40,
   "id": "46a505a3",
   "metadata": {
    "execution": {
     "iopub.execute_input": "2023-12-23T16:01:51.033856Z",
     "iopub.status.busy": "2023-12-23T16:01:51.033481Z",
     "iopub.status.idle": "2023-12-23T16:01:51.460944Z",
     "shell.execute_reply": "2023-12-23T16:01:51.459749Z"
    },
    "papermill": {
     "duration": 0.445523,
     "end_time": "2023-12-23T16:01:51.463320",
     "exception": false,
     "start_time": "2023-12-23T16:01:51.017797",
     "status": "completed"
    },
    "tags": []
   },
   "outputs": [
    {
     "data": {
      "image/png": "[encoded data removed]",
      "text/plain": [
       "<Figure size 1000x600 with 1 Axes>"
      ]
     },
     "metadata": {},
     "output_type": "display_data"
    }
   ],
   "source": [
    "# Create the scatter plot\n",
    "plt.figure(figsize=(10, 6))\n",
    "plt.scatter(cleaned_df['service_fee'], cleaned_df['price'], alpha=0.5)\n",
    "\n",
    "# Add details\n",
    "plt.xlabel('Service Fee ($)')\n",
    "plt.ylabel('Room Price ($)')\n",
    "plt.title('Relationship between Service Fee and Room Price')\n",
    "\n",
    "# Show chart\n",
    "plt.tight_layout()\n",
    "plt.show()\n"
   ]
  },
  {
   "cell_type": "code",
   "execution_count": 41,
   "id": "b87a9ee2",
   "metadata": {
    "execution": {
     "iopub.execute_input": "2023-12-23T16:01:51.491853Z",
     "iopub.status.busy": "2023-12-23T16:01:51.491498Z",
     "iopub.status.idle": "2023-12-23T16:01:51.564524Z",
     "shell.execute_reply": "2023-12-23T16:01:51.563015Z"
    },
    "papermill": {
     "duration": 0.090266,
     "end_time": "2023-12-23T16:01:51.567072",
     "exception": false,
     "start_time": "2023-12-23T16:01:51.476806",
     "status": "completed"
    },
    "tags": []
   },
   "outputs": [],
   "source": [
    "cleaned_df['construction_year'] = pd.to_datetime(cleaned_df['construction_year'], errors='coerce')\n",
    "filter_airbnb = cleaned_df.dropna(subset=['construction_year']).copy()\n",
    "current_year = pd.Timestamp.now().year\n",
    "filter_airbnb['years_constructed'] = current_year - filter_airbnb['construction_year'].dt.year\n",
    "listings_per_year = filter_airbnb.groupby('years_constructed')['days_booked'].mean()\n"
   ]
  },
  {
   "cell_type": "code",
   "execution_count": 42,
   "id": "9b296626",
   "metadata": {
    "execution": {
     "iopub.execute_input": "2023-12-23T16:01:51.596753Z",
     "iopub.status.busy": "2023-12-23T16:01:51.596403Z",
     "iopub.status.idle": "2023-12-23T16:01:51.667428Z",
     "shell.execute_reply": "2023-12-23T16:01:51.665776Z"
    },
    "papermill": {
     "duration": 0.088359,
     "end_time": "2023-12-23T16:01:51.669742",
     "exception": false,
     "start_time": "2023-12-23T16:01:51.581383",
     "status": "completed"
    },
    "tags": []
   },
   "outputs": [],
   "source": [
    "# Filter out rows where 'days_booked' is more than 0\n",
    "filter_airbnb = cleaned_df[cleaned_df['days_booked'] >= 0].copy()\n",
    "\n",
    "# Calculate the average listings per year based on the difference between the current year and 'year_constructed'\n",
    "current_year = pd.Timestamp.now().year\n",
    "filter_airbnb['years_constructed'] = current_year - pd.to_datetime(filter_airbnb['construction_year']).dt.year\n",
    "listings_per_year = filter_airbnb.groupby('years_constructed')['days_booked'].mean()"
   ]
  },
  {
   "cell_type": "code",
   "execution_count": 43,
   "id": "5ad64411",
   "metadata": {
    "execution": {
     "iopub.execute_input": "2023-12-23T16:01:51.699125Z",
     "iopub.status.busy": "2023-12-23T16:01:51.698762Z",
     "iopub.status.idle": "2023-12-23T16:01:51.986609Z",
     "shell.execute_reply": "2023-12-23T16:01:51.985008Z"
    },
    "papermill": {
     "duration": 0.305547,
     "end_time": "2023-12-23T16:01:51.988768",
     "exception": false,
     "start_time": "2023-12-23T16:01:51.683221",
     "status": "completed"
    },
    "tags": []
   },
   "outputs": [
    {
     "data": {
      "image/png": "[encoded data removed]",
      "text/plain": [
       "<Figure size 1000x600 with 1 Axes>"
      ]
     },
     "metadata": {},
     "output_type": "display_data"
    }
   ],
   "source": [
    "# Create the line chart\n",
    "plt.figure(figsize=(10, 6))\n",
    "plt.plot(listings_per_year.index, listings_per_year.values, marker='o', linestyle='-')\n",
    "\n",
    "# Add labels\n",
    "plt.xlabel('Year')\n",
    "plt.ylabel('Total Listings')\n",
    "plt.title('Total Listings Available per Year')\n",
    "plt.xticks(listings_per_year.index, [f\"{current_year - year}\" for year in listings_per_year.index]) #show the year, instead of years from current\n",
    "plt.gca().invert_xaxis()\n",
    "plt.grid(True)\n",
    "\n",
    "# Show the chart\n",
    "plt.tight_layout()\n",
    "plt.show()"
   ]
  },
  {
   "cell_type": "code",
   "execution_count": 44,
   "id": "dc470087",
   "metadata": {
    "execution": {
     "iopub.execute_input": "2023-12-23T16:01:52.018454Z",
     "iopub.status.busy": "2023-12-23T16:01:52.018027Z",
     "iopub.status.idle": "2023-12-23T16:01:52.097675Z",
     "shell.execute_reply": "2023-12-23T16:01:52.096635Z"
    },
    "papermill": {
     "duration": 0.097807,
     "end_time": "2023-12-23T16:01:52.100735",
     "exception": false,
     "start_time": "2023-12-23T16:01:52.002928",
     "status": "completed"
    },
    "tags": []
   },
   "outputs": [],
   "source": [
    "# clean and group data for bar plot\n",
    "# Remove rows with empty string value in 'host_identity_verified' column\n",
    "verified_airbnb = cleaned_df[cleaned_df['host_identity_verified'].str.strip() != '']\n",
    "\n",
    "# Map 'unconfirmed' to False and 'verified' to True in 'host_identity_verified' column\n",
    "verified_airbnb['host_identity_verified'] = verified_airbnb['host_identity_verified'].map({'unconfirmed': False, 'verified': True})\n",
    "\n",
    "# Group the data by 'rating' and 'host_identity_verified', and count the occurrences\n",
    "verification_counts = verified_airbnb.groupby(['review_rate_number', 'host_identity_verified']).size().unstack()"
   ]
  },
  {
   "cell_type": "code",
   "execution_count": 45,
   "id": "7877ea09",
   "metadata": {
    "execution": {
     "iopub.execute_input": "2023-12-23T16:01:52.131275Z",
     "iopub.status.busy": "2023-12-23T16:01:52.130808Z",
     "iopub.status.idle": "2023-12-23T16:01:52.391037Z",
     "shell.execute_reply": "2023-12-23T16:01:52.389620Z"
    },
    "papermill": {
     "duration": 0.27868,
     "end_time": "2023-12-23T16:01:52.394100",
     "exception": false,
     "start_time": "2023-12-23T16:01:52.115420",
     "status": "completed"
    },
    "tags": []
   },
   "outputs": [
    {
     "data": {
      "image/png": "[encoded data removed]",
      "text/plain": [
       "<Figure size 1000x600 with 1 Axes>"
      ]
     },
     "metadata": {},
     "output_type": "display_data"
    }
   ],
   "source": [
    "# Create the bar plot\n",
    "verification_counts.plot(kind='bar', stacked=False, figsize=(10, 6))\n",
    "plt.xlabel('Rating')\n",
    "plt.ylabel('Number of Hosts')\n",
    "plt.title('Number of Verified and Unverified Hosts for Each Rating')\n",
    "plt.legend(title='Host Verification', labels=['Unverified', 'Verified'])\n",
    "plt.xticks(rotation=0)\n",
    "plt.tight_layout()\n",
    "plt.show()"
   ]
  },
  {
   "cell_type": "code",
   "execution_count": 46,
   "id": "7b532f62",
   "metadata": {
    "execution": {
     "iopub.execute_input": "2023-12-23T16:01:52.428414Z",
     "iopub.status.busy": "2023-12-23T16:01:52.426454Z",
     "iopub.status.idle": "2023-12-23T16:01:53.284577Z",
     "shell.execute_reply": "2023-12-23T16:01:53.283528Z"
    },
    "papermill": {
     "duration": 0.876731,
     "end_time": "2023-12-23T16:01:53.286703",
     "exception": false,
     "start_time": "2023-12-23T16:01:52.409972",
     "status": "completed"
    },
    "tags": []
   },
   "outputs": [
    {
     "data": {
      "image/png": "[encoded data removed]",
      "text/plain": [
       "<Figure size 1000x600 with 1 Axes>"
      ]
     },
     "metadata": {},
     "output_type": "display_data"
    }
   ],
   "source": [
    "# Are verified host generally more expensive?\n",
    "# Create a box plot or violin plot to compare prices for verified and unverified users\n",
    "plt.figure(figsize=(10, 6))\n",
    "ax = sns.violinplot(x='host_identity_verified', y='price', data=verified_airbnb)\n",
    "plt.xlabel('Host Identity Verified')\n",
    "plt.ylabel('Price')\n",
    "plt.title('Price Distribution for Verified and Unverified Users')\n",
    "plt.xticks([0, 1], ['Unverified', 'Verified'])\n",
    "\n",
    "# Add labels for median and interquartile ranges\n",
    "medians = verified_airbnb.groupby('host_identity_verified')['price'].median()\n",
    "q1 = verified_airbnb.groupby('host_identity_verified')['price'].quantile(0.25)\n",
    "q3 = verified_airbnb.groupby('host_identity_verified')['price'].quantile(0.75)\n",
    "\n",
    "for xtick, label in enumerate(ax.get_xticklabels()):\n",
    "    ax.annotate(f\"Median: ${medians[xtick]:.2f}\", (xtick, medians[xtick]), \n",
    "                xytext=(5, 5), textcoords='offset points', ha='center', va='bottom', fontsize=10)\n",
    "    ax.annotate(f\"IQR: ${q1[xtick]:.2f} - ${q3[xtick]:.2f}\", (xtick, q3[xtick]), \n",
    "                xytext=(5, -110), textcoords='offset points', ha='center', va='bottom', fontsize=10)\n",
    "\n",
    "\n",
    "plt.tight_layout()\n",
    "plt.show()"
   ]
  },
  {
   "cell_type": "code",
   "execution_count": 47,
   "id": "2a5cdb57",
   "metadata": {
    "execution": {
     "iopub.execute_input": "2023-12-23T16:01:53.319780Z",
     "iopub.status.busy": "2023-12-23T16:01:53.318510Z",
     "iopub.status.idle": "2023-12-23T16:01:53.664260Z",
     "shell.execute_reply": "2023-12-23T16:01:53.662995Z"
    },
    "papermill": {
     "duration": 0.36451,
     "end_time": "2023-12-23T16:01:53.666321",
     "exception": false,
     "start_time": "2023-12-23T16:01:53.301811",
     "status": "completed"
    },
    "tags": []
   },
   "outputs": [
    {
     "data": {
      "image/png": "[encoded data removed]",
      "text/plain": [
       "<Figure size 1000x600 with 2 Axes>"
      ]
     },
     "metadata": {},
     "output_type": "display_data"
    }
   ],
   "source": [
    "# Group the data by 'neighbourhood_group' and 'host_identity_verified', and count the occurrences\n",
    "grouped_hosts = verified_airbnb.groupby(['neighbourhood_group', 'host_identity_verified']).size().unstack()\n",
    "\n",
    "# Create a heatmap to show the spread of verified and unverified hosts across neighborhood groups\n",
    "plt.figure(figsize=(10, 6))\n",
    "sns.heatmap(grouped_hosts, annot=True, fmt='d', cmap='YlGnBu', linewidths=0.5)\n",
    "\n",
    "plt.xlabel('Host Identity')\n",
    "plt.ylabel('Neighborhood Group')\n",
    "plt.title('Spread of Verified and Unverified Hosts Across Neighborhood Groups')\n",
    "plt.xticks(ticks=[0.5, 1.5], labels=['Unverified', 'Verified'])\n",
    "plt.yticks(rotation=0)\n",
    "\n",
    "plt.tight_layout()\n",
    "plt.show()"
   ]
  }
 ],
 "metadata": {
  "kaggle": {
   "accelerator": "none",
   "dataSources": [
    {
     "datasetId": 2380415,
     "sourceId": 4016336,
     "sourceType": "datasetVersion"
    }
   ],
   "dockerImageVersionId": 30626,
   "isGpuEnabled": false,
   "isInternetEnabled": false,
   "language": "python",
   "sourceType": "notebook"
  },
  "kernelspec": {
   "display_name": "Python 3",
   "language": "python",
   "name": "python3"
  },
  "language_info": {
   "codemirror_mode": {
    "name": "ipython",
    "version": 3
   },
   "file_extension": ".py",
   "mimetype": "text/x-python",
   "name": "python",
   "nbconvert_exporter": "python",
   "pygments_lexer": "ipython3",
   "version": "3.10.12"
  },
  "papermill": {
   "default_parameters": {},
   "duration": 14.627365,
   "end_time": "2023-12-23T16:01:54.403934",
   "environment_variables": {},
   "exception": null,
   "input_path": "__notebook__.ipynb",
   "output_path": "__notebook__.ipynb",
   "parameters": {},
   "start_time": "2023-12-23T16:01:39.776569",
   "version": "2.4.0"
  }
 },
 "nbformat": 4,
 "nbformat_minor": 5
}
